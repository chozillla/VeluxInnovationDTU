{
 "cells": [
  {
   "cell_type": "code",
   "execution_count": null,
   "id": "4aa1cac6-af5a-4dd2-90ba-1c08952cd1c5",
   "metadata": {},
   "outputs": [],
   "source": []
  }
 ],
 "metadata": {
  "kernelspec": {
   "display_name": "Python 3 (ipykernel)",
   "language": "python",
   "name": "python3"
  },
  "language_info": {
   "name": ""
  }
 },
 "nbformat": 4,
 "nbformat_minor": 5
}
